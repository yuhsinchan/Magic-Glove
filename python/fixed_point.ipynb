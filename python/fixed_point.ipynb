{
 "cells": [
  {
   "cell_type": "code",
   "execution_count": 6,
   "metadata": {},
   "outputs": [
    {
     "data": {
      "text/plain": [
       "3.375"
      ]
     },
     "execution_count": 6,
     "metadata": {},
     "output_type": "execute_result"
    }
   ],
   "source": [
    "def bits2dec(bits: str, intdigit: int):\n",
    "    int_bits = bits[:intdigit]\n",
    "    float_bits = bits[intdigit:]\n",
    "    \n",
    "    num_int: int = 0\n",
    "    num_float = 0\n",
    "    \n",
    "    for i in int_bits:\n",
    "        num_int = num_int << 1\n",
    "        num_int += int(i)\n",
    "    \n",
    "    for f in float_bits[::-1]:\n",
    "        num_float += int(f)\n",
    "        num_float /= 2\n",
    "        \n",
    "    return num_int + num_float\n",
    "\n",
    "bits2dec(\"11011\", 2)"
   ]
  },
  {
   "cell_type": "code",
   "execution_count": null,
   "metadata": {},
   "outputs": [],
   "source": []
  },
  {
   "cell_type": "code",
   "execution_count": 55,
   "metadata": {},
   "outputs": [
    {
     "name": "stdout",
     "output_type": "stream",
     "text": [
      "0b1000101 0b10001\n",
      "69 17\n",
      "4.0588235294117645\n",
      "10000001111000011110000\n",
      "00000010000001111000011110000 29 9\n",
      "4.0588226318359375\n"
     ]
    }
   ],
   "source": [
    "import random\n",
    "\n",
    "a = bin(random.randint(1, 100))\n",
    "b = bin(random.randint(1, 100))\n",
    "\n",
    "print(a, b)\n",
    "\n",
    "shift = 20\n",
    "\n",
    "a_int = int(a, 2)\n",
    "b_int = int(b, 2)\n",
    "\n",
    "print(a_int, b_int)\n",
    "print(a_int / b_int)\n",
    "\n",
    "c_int = int((a_int << shift) / b_int)\n",
    "print(bin(c_int)[2:])\n",
    "c_bits_str = \"0\" * (len(a) + shift - len(bin(c_int)[2:])) + bin(c_int)[2:]\n",
    "print(c_bits_str, len(c_bits_str), len(a))\n",
    "print(bits2dec(c_bits_str, len(a)))"
   ]
  },
  {
   "cell_type": "code",
   "execution_count": 7,
   "metadata": {},
   "outputs": [],
   "source": [
    "import random\n",
    "\n",
    "a = random.random() * 100\n",
    "b = random.random() * 100"
   ]
  },
  {
   "cell_type": "code",
   "execution_count": 8,
   "metadata": {},
   "outputs": [
    {
     "data": {
      "text/plain": [
       "(85.65160708098149, 74.93887171092261)"
      ]
     },
     "execution_count": 8,
     "metadata": {},
     "output_type": "execute_result"
    }
   ],
   "source": [
    "a, b"
   ]
  },
  {
   "cell_type": "code",
   "execution_count": 9,
   "metadata": {},
   "outputs": [
    {
     "data": {
      "text/plain": [
       "6418.634794876023"
      ]
     },
     "execution_count": 9,
     "metadata": {},
     "output_type": "execute_result"
    }
   ],
   "source": [
    "a * b"
   ]
  },
  {
   "cell_type": "code",
   "execution_count": 10,
   "metadata": {},
   "outputs": [],
   "source": [
    "# 8 bits int, 8 bits floating points\n",
    "a = int(a * 2 ** 8)\n",
    "b = int(b * 2 ** 8)"
   ]
  },
  {
   "cell_type": "code",
   "execution_count": 11,
   "metadata": {},
   "outputs": [
    {
     "data": {
      "text/plain": [
       "('0x55a6', '0x4af0')"
      ]
     },
     "execution_count": 11,
     "metadata": {},
     "output_type": "execute_result"
    }
   ],
   "source": [
    "hex(a), hex(b)"
   ]
  },
  {
   "cell_type": "code",
   "execution_count": 13,
   "metadata": {},
   "outputs": [],
   "source": [
    "import torch\n",
    "import torch.nn as nn\n",
    "from torch.nn import functional as F\n",
    "from torch.utils.data import Dataset, DataLoader\n",
    "import numpy as np\n",
    "\n",
    "from tqdm import tqdm\n",
    "import logging\n",
    "import pandas as pd\n",
    "\n",
    "import os\n",
    "import sys\n",
    "\n",
    "mean = [\n",
    "    773.01792745,\n",
    "    -88.91943195,\n",
    "    257.42027559,\n",
    "    318.24409449,\n",
    "    324.74732846,\n",
    "    334.68848425,\n",
    "    340.11283746,\n",
    "    307.42055681,\n",
    "]\n",
    "std = [\n",
    "    497.12221911,\n",
    "    253.92590509,\n",
    "    272.79684578,\n",
    "    19.25624324,\n",
    "    45.58375268,\n",
    "    43.85550165,\n",
    "    36.24868204,\n",
    "    41.05464977,\n",
    "]\n",
    "\n",
    "\n",
    "class NMSLDataset(Dataset):\n",
    "    def __init__(self, data_path: str):\n",
    "        data = []\n",
    "        labels = []\n",
    "\n",
    "        speakers = os.listdir(data_path)\n",
    "\n",
    "        for i in speakers:\n",
    "            labeled_data_files = os.listdir(os.path.join(data_path, i))\n",
    "            for file in labeled_data_files:\n",
    "                with open(os.path.join(data_path, i, file), \"r\") as f:\n",
    "                    for line in f.readlines()[:-1]:\n",
    "                        line = line.strip().split(\" \")\n",
    "                        v = [int(i) for i in line[:]]\n",
    "\n",
    "                        data.append(v)\n",
    "                        if file[0] in [chr(ord(\"A\") + i) for i in range(26)]:\n",
    "                            labels.append(torch.tensor(ord(file[0]) - ord(\"A\")))\n",
    "                        elif \"halt\" in file:\n",
    "                            labels.append(torch.tensor(26))\n",
    "                        elif \"random\" in file:\n",
    "                            labels.append(torch.tensor(27))\n",
    "\n",
    "        data = np.array(data)\n",
    "        # normalize data\n",
    "        self.mean = np.mean(data, axis=0)\n",
    "        self.std = np.std(data, axis=0)\n",
    "        data = (data - np.mean(data, axis=0)) / np.std(data, axis=0)\n",
    "\n",
    "        self.data = []\n",
    "        self.labels = []\n",
    "\n",
    "        this_data = []\n",
    "        this_label = -1\n",
    "        for i, v in enumerate(data):\n",
    "            if len(this_data) < 5:\n",
    "                this_data.append(v)\n",
    "                this_label = labels[i]\n",
    "            else:\n",
    "                self.data.append(torch.tensor(this_data, dtype=torch.float).T)\n",
    "                self.labels.append(torch.tensor(this_label))\n",
    "\n",
    "                if labels[i] != this_label:\n",
    "                    this_data = []\n",
    "                    this_label = -1\n",
    "                    continue\n",
    "                else:\n",
    "                    this_data.pop(0)\n",
    "                    this_data.append(v)\n",
    "\n",
    "    def __getitem__(self, index):\n",
    "        return self.data[index], self.labels[index]\n",
    "\n",
    "    def __len__(self):\n",
    "        return len(self.data)\n",
    "\n",
    "# define model\n",
    "class Classifier(nn.Module):\n",
    "    def __init__(self):\n",
    "        super().__init__()\n",
    "        self.cnn = nn.Sequential(\n",
    "            nn.Conv1d(8, 10, 3),\n",
    "            nn.BatchNorm1d(10),\n",
    "            nn.Flatten(),\n",
    "        )\n",
    "\n",
    "        self.fc = nn.Sequential(\n",
    "            nn.Linear(10 * 3, 27),\n",
    "        )\n",
    "\n",
    "    def forward(self, x):\n",
    "        output = self.cnn(x)\n",
    "        output = self.fc(output)\n",
    "        return output"
   ]
  },
  {
   "cell_type": "code",
   "execution_count": 15,
   "metadata": {},
   "outputs": [
    {
     "name": "stderr",
     "output_type": "stream",
     "text": [
      "/tmp/ipykernel_168618/455989549.py:76: UserWarning: To copy construct from a tensor, it is recommended to use sourceTensor.clone().detach() or sourceTensor.clone().detach().requires_grad_(True), rather than torch.tensor(sourceTensor).\n",
      "  self.labels.append(torch.tensor(this_label))\n"
     ]
    },
    {
     "data": {
      "text/plain": [
       "<All keys matched successfully>"
      ]
     },
     "execution_count": 15,
     "metadata": {},
     "output_type": "execute_result"
    }
   ],
   "source": [
    "train_set = NMSLDataset(\"../dataset/train\")\n",
    "train_loader = DataLoader(train_set, batch_size=1)\n",
    "\n",
    "device = \"cuda\" if torch.cuda.is_available() else \"cpu\"\n",
    "\n",
    "model = Classifier().to(device)\n",
    "model.load_state_dict(torch.load(\"./models/model.pth\"))"
   ]
  },
  {
   "cell_type": "code",
   "execution_count": 18,
   "metadata": {},
   "outputs": [],
   "source": [
    "for batch in train_loader:\n",
    "    inputs, labels = batch\n",
    "    break"
   ]
  },
  {
   "cell_type": "code",
   "execution_count": 19,
   "metadata": {},
   "outputs": [
    {
     "data": {
      "text/plain": [
       "tensor([[[ 0.4485,  0.4405,  0.4325,  0.4325,  0.4485],\n",
       "         [-0.6974, -0.5753, -0.5595, -0.6068, -0.5910],\n",
       "         [-0.2545, -0.2398, -0.2691, -0.1555, -0.1555],\n",
       "         [ 0.6105,  0.3508,  0.2989,  0.1950,  0.1431],\n",
       "         [-0.7842, -0.9158, -0.9158, -0.9378, -0.9597],\n",
       "         [-0.7454, -0.9278, -0.9278, -0.9278, -0.9278],\n",
       "         [ 1.1831,  0.9624,  0.9073,  0.8797,  0.8521],\n",
       "         [-1.3012, -1.4474, -1.4474, -1.4474, -1.4474]]])"
      ]
     },
     "execution_count": 19,
     "metadata": {},
     "output_type": "execute_result"
    }
   ],
   "source": [
    "inputs"
   ]
  },
  {
   "cell_type": "code",
   "execution_count": 30,
   "metadata": {},
   "outputs": [],
   "source": [
    "cnn_weight = model.cnn[0].weight[0].detach().cpu()"
   ]
  },
  {
   "cell_type": "code",
   "execution_count": 32,
   "metadata": {},
   "outputs": [],
   "source": [
    "output = model.cnn[0](inputs.to(device)).detach().cpu()"
   ]
  },
  {
   "cell_type": "code",
   "execution_count": 38,
   "metadata": {},
   "outputs": [
    {
     "data": {
      "text/plain": [
       "(tensor([[-19.6986, -21.7953, -27.0025],\n",
       "         [ 44.4133,  44.1890,  44.3681],\n",
       "         [-11.4387,  -3.3286,   3.5227],\n",
       "         [-41.0221, -40.3241, -40.9374],\n",
       "         [ 32.3187,  32.3442,  31.1909],\n",
       "         [-41.2163, -41.4004, -41.5270],\n",
       "         [ -0.6060,  -0.5368,  -0.0994],\n",
       "         [ 25.2135,  24.7958,  24.0633]]),\n",
       " tensor([[[ 0.4485,  0.4405,  0.4325,  0.4325,  0.4485],\n",
       "          [-0.6974, -0.5753, -0.5595, -0.6068, -0.5910],\n",
       "          [-0.2545, -0.2398, -0.2691, -0.1555, -0.1555],\n",
       "          [ 0.6105,  0.3508,  0.2989,  0.1950,  0.1431],\n",
       "          [-0.7842, -0.9158, -0.9158, -0.9378, -0.9597],\n",
       "          [-0.7454, -0.9278, -0.9278, -0.9278, -0.9278],\n",
       "          [ 1.1831,  0.9624,  0.9073,  0.8797,  0.8521],\n",
       "          [-1.3012, -1.4474, -1.4474, -1.4474, -1.4474]]]),\n",
       " tensor([-231.8735, -211.1289, -205.0359]))"
      ]
     },
     "execution_count": 38,
     "metadata": {},
     "output_type": "execute_result"
    }
   ],
   "source": [
    "cnn_weight, inputs, output[0, 0]"
   ]
  },
  {
   "cell_type": "code",
   "execution_count": 98,
   "metadata": {},
   "outputs": [
    {
     "data": {
      "text/plain": [
       "array([-19.698553  , -21.795269  , -27.002476  ,  44.41327   ,\n",
       "        44.189     ,  44.368053  , -11.438744  ,  -3.3285847 ,\n",
       "         3.5227225 , -41.022118  , -40.324123  , -40.937428  ,\n",
       "        32.318653  ,  32.344234  ,  31.190908  , -41.216343  ,\n",
       "       -41.400406  , -41.52702   ,  -0.606003  ,  -0.5368076 ,\n",
       "        -0.09939746,  25.213467  ,  24.795797  ,  24.063305  ],\n",
       "      dtype=float32)"
      ]
     },
     "execution_count": 98,
     "metadata": {},
     "output_type": "execute_result"
    }
   ],
   "source": [
    "cnn_weight.detach().cpu().numpy().reshape(-1)"
   ]
  },
  {
   "cell_type": "code",
   "execution_count": 95,
   "metadata": {},
   "outputs": [
    {
     "data": {
      "text/plain": [
       "tensor(-231.8735, device='cuda:0', grad_fn=<AddBackward0>)"
      ]
     },
     "execution_count": 95,
     "metadata": {},
     "output_type": "execute_result"
    }
   ],
   "source": [
    "torch.sum(torch.mul(inputs[0, :, :3], cnn_weight)) + model.cnn[0].bias[0]"
   ]
  },
  {
   "cell_type": "code",
   "execution_count": 137,
   "metadata": {},
   "outputs": [],
   "source": [
    "def tensor_to_hex_list(tensor: torch.Tensor, float_bits: int, bits: int):\n",
    "    arr = tensor.detach().cpu().numpy()\n",
    "    arr = arr * 2 ** float_bits\n",
    "    arr = np.array(arr.reshape(-1), dtype=np.int64)\n",
    "    hex_list =  [f\"{bits}'h\" + hex(abs(i))[2:].rjust(int(bits/4), \"0\") if i > 0 else f\"-{bits}'h\" + hex(abs(i))[2:].rjust(int(bits/4), \"0\") for i in arr]\n",
    "    \n",
    "    return hex_list"
   ]
  },
  {
   "cell_type": "code",
   "execution_count": 116,
   "metadata": {},
   "outputs": [],
   "source": [
    "cnn_weight_hex = tensor_to_hex_list(cnn_weight, 8, 16)\n",
    "inputs_hex = tensor_to_hex_list(inputs, 8, 16)"
   ]
  },
  {
   "cell_type": "code",
   "execution_count": 117,
   "metadata": {},
   "outputs": [
    {
     "name": "stdout",
     "output_type": "stream",
     "text": [
      "-16'h13b2,\n",
      "-16'h15cb,\n",
      "-16'h1b00,\n",
      "16'h2c69,\n",
      "16'h2c30,\n",
      "16'h2c5e,\n",
      "-16'h0b70,\n",
      "-16'h0354,\n",
      "16'h0385,\n",
      "-16'h2905,\n",
      "-16'h2852,\n",
      "-16'h28ef,\n",
      "16'h2051,\n",
      "16'h2058,\n",
      "16'h1f30,\n",
      "-16'h2937,\n",
      "-16'h2966,\n",
      "-16'h2986,\n",
      "-16'h009b,\n",
      "-16'h0089,\n",
      "-16'h0019,\n",
      "16'h1936,\n",
      "16'h18cb,\n",
      "16'h1810,\n"
     ]
    }
   ],
   "source": [
    "for i in cnn_weight_hex:\n",
    "    print(f\"{i},\")"
   ]
  },
  {
   "cell_type": "code",
   "execution_count": 118,
   "metadata": {},
   "outputs": [
    {
     "name": "stdout",
     "output_type": "stream",
     "text": [
      "16'h0072,\n",
      "16'h0070,\n",
      "16'h006e,\n",
      "16'h006e,\n",
      "16'h0072,\n",
      "-16'h00b2,\n",
      "-16'h0093,\n",
      "-16'h008f,\n",
      "-16'h009b,\n",
      "-16'h0097,\n",
      "-16'h0041,\n",
      "-16'h003d,\n",
      "-16'h0044,\n",
      "-16'h0027,\n",
      "-16'h0027,\n",
      "16'h009c,\n",
      "16'h0059,\n",
      "16'h004c,\n",
      "16'h0031,\n",
      "16'h0024,\n",
      "-16'h00c8,\n",
      "-16'h00ea,\n",
      "-16'h00ea,\n",
      "-16'h00f0,\n",
      "-16'h00f5,\n",
      "-16'h00be,\n",
      "-16'h00ed,\n",
      "-16'h00ed,\n",
      "-16'h00ed,\n",
      "-16'h00ed,\n",
      "16'h012e,\n",
      "16'h00f6,\n",
      "16'h00e8,\n",
      "16'h00e1,\n",
      "16'h00da,\n",
      "-16'h014d,\n",
      "-16'h0172,\n",
      "-16'h0172,\n",
      "-16'h0172,\n",
      "-16'h0172,\n"
     ]
    }
   ],
   "source": [
    "for i in inputs_hex:\n",
    "    print(f\"{i},\")"
   ]
  },
  {
   "cell_type": "code",
   "execution_count": 82,
   "metadata": {},
   "outputs": [
    {
     "data": {
      "text/plain": [
       "tensor([[[ 0.4485,  0.4405,  0.4325,  0.4325,  0.4485],\n",
       "         [-0.6974, -0.5753, -0.5595, -0.6068, -0.5910],\n",
       "         [-0.2545, -0.2398, -0.2691, -0.1555, -0.1555],\n",
       "         [ 0.6105,  0.3508,  0.2989,  0.1950,  0.1431],\n",
       "         [-0.7842, -0.9158, -0.9158, -0.9378, -0.9597],\n",
       "         [-0.7454, -0.9278, -0.9278, -0.9278, -0.9278],\n",
       "         [ 1.1831,  0.9624,  0.9073,  0.8797,  0.8521],\n",
       "         [-1.3012, -1.4474, -1.4474, -1.4474, -1.4474]]])"
      ]
     },
     "execution_count": 82,
     "metadata": {},
     "output_type": "execute_result"
    }
   ],
   "source": [
    "inputs"
   ]
  },
  {
   "cell_type": "code",
   "execution_count": 85,
   "metadata": {},
   "outputs": [
    {
     "data": {
      "text/plain": [
       "[\"16'h08d8\",\n",
       " \"16'h0b7e\",\n",
       " \"-16'h0b01\",\n",
       " \"16'h1462\",\n",
       " \"16'h23ea\",\n",
       " \"-16'h1e79\",\n",
       " \"16'h27a7\",\n",
       " \"-16'h03b3\",\n",
       " \"-16'h28a4\",\n",
       " \"16'h2752\"]"
      ]
     },
     "execution_count": 85,
     "metadata": {},
     "output_type": "execute_result"
    }
   ],
   "source": [
    "tensor_to_hex_list(model.cnn[0].bias, 8)"
   ]
  },
  {
   "cell_type": "code",
   "execution_count": 86,
   "metadata": {},
   "outputs": [
    {
     "data": {
      "text/plain": [
       "Parameter containing:\n",
       "tensor([  8.8471,  11.4942, -11.0057,  20.3848,  35.9173, -30.4756,  39.6558,\n",
       "         -3.6994, -40.6424,  39.3213], device='cuda:0', requires_grad=True)"
      ]
     },
     "execution_count": 86,
     "metadata": {},
     "output_type": "execute_result"
    }
   ],
   "source": [
    "model.cnn[0].bias"
   ]
  },
  {
   "cell_type": "code",
   "execution_count": 104,
   "metadata": {},
   "outputs": [
    {
     "data": {
      "text/plain": [
       "Parameter containing:\n",
       "tensor([-42.5195,   5.7998,  27.6298, -23.9818,  24.4148,  29.1349,  -8.1405,\n",
       "         10.6412,   6.3522, -41.3713, -31.6411,  27.3438, -43.1333, -39.3329,\n",
       "         45.0211, -18.4086, -38.9969, -11.5696,  -7.3386,  18.2612,  16.9376,\n",
       "         21.9714, -22.5964, -36.8528, -23.7138,  34.5924, -44.0687],\n",
       "       device='cuda:0', requires_grad=True)"
      ]
     },
     "execution_count": 104,
     "metadata": {},
     "output_type": "execute_result"
    }
   ],
   "source": [
    "model.fc[0].bias"
   ]
  },
  {
   "cell_type": "code",
   "execution_count": 105,
   "metadata": {},
   "outputs": [
    {
     "data": {
      "text/plain": [
       "tensor([[[-231.8735, -211.1289, -205.0359],\n",
       "         [ 213.3433,  217.3872,  214.7934],\n",
       "         [  90.6032,   81.7818,   77.9445],\n",
       "         [ -32.1318,  -50.9191,  -53.1582],\n",
       "         [ 503.1721,  494.3076,  486.4103],\n",
       "         [ 143.4365,  121.3317,  112.4147],\n",
       "         [ 205.8760,  194.6766,  190.9556],\n",
       "         [-231.0771, -240.9203, -247.9731],\n",
       "         [-362.3427, -356.7926, -352.1190],\n",
       "         [-192.4772, -179.5437, -172.2068]]])"
      ]
     },
     "execution_count": 105,
     "metadata": {},
     "output_type": "execute_result"
    }
   ],
   "source": [
    "output"
   ]
  },
  {
   "cell_type": "code",
   "execution_count": 112,
   "metadata": {},
   "outputs": [
    {
     "data": {
      "text/plain": [
       "tensor([[-38186.6094,  18719.0820, -41925.6133,   9504.1885, -16845.1621,\n",
       "          15184.8652, -13563.2441,  37538.7188,  -7083.8740, -23894.3828,\n",
       "           -115.7192,  15192.9238, -51408.7031,  34503.4609, -37975.0273,\n",
       "          -5718.3486,  88901.7812,  53196.6719, -35372.0273, -14858.5732,\n",
       "          35911.5508,  38343.9844, -18380.5645, -10531.6348,  -3204.3152,\n",
       "           9574.7754, -18521.1895]], device='cuda:0', grad_fn=<AddmmBackward0>)"
      ]
     },
     "execution_count": 112,
     "metadata": {},
     "output_type": "execute_result"
    }
   ],
   "source": [
    "model.fc[0](model.cnn[2](output).to(device))"
   ]
  },
  {
   "cell_type": "code",
   "execution_count": 110,
   "metadata": {},
   "outputs": [
    {
     "data": {
      "text/plain": [
       "tensor([16])"
      ]
     },
     "execution_count": 110,
     "metadata": {},
     "output_type": "execute_result"
    }
   ],
   "source": [
    "labels"
   ]
  },
  {
   "cell_type": "code",
   "execution_count": 136,
   "metadata": {},
   "outputs": [
    {
     "data": {
      "text/plain": [
       "(tensor([[[-231.8735, -211.1289, -205.0359],\n",
       "          [ 213.3433,  217.3872,  214.7934],\n",
       "          [  90.6032,   81.7818,   77.9445],\n",
       "          [ -32.1318,  -50.9191,  -53.1582],\n",
       "          [ 503.1721,  494.3076,  486.4103],\n",
       "          [ 143.4365,  121.3317,  112.4147],\n",
       "          [ 205.8760,  194.6766,  190.9556],\n",
       "          [-231.0771, -240.9203, -247.9731],\n",
       "          [-362.3427, -356.7926, -352.1190],\n",
       "          [-192.4772, -179.5437, -172.2068]]]),\n",
       " tensor([  9.9009,   6.7030,  12.8561, -17.1859, -15.4959, -14.5686,  10.5488,\n",
       "           9.6615,  11.1175,  13.5918,  12.2274,  12.0412, -13.4970, -10.8626,\n",
       "          -7.1948,   8.3417,   8.2107,  12.0162,  -9.4247,  -9.1299,  -9.3204,\n",
       "          -7.0088,  -6.6695,  -4.7617,  20.4395,  20.8245,  19.5263, -21.5311,\n",
       "         -22.3276, -24.5059], device='cuda:0', grad_fn=<SelectBackward0>))"
      ]
     },
     "execution_count": 136,
     "metadata": {},
     "output_type": "execute_result"
    }
   ],
   "source": [
    "output, model.fc[0].weight[0]"
   ]
  },
  {
   "cell_type": "code",
   "execution_count": 138,
   "metadata": {},
   "outputs": [],
   "source": [
    "fc_input_hex = tensor_to_hex_list(output, 8, 24)\n",
    "fc_weight_hex = tensor_to_hex_list(model.fc[0].weight[0], 8, 16)"
   ]
  },
  {
   "cell_type": "code",
   "execution_count": 139,
   "metadata": {},
   "outputs": [
    {
     "name": "stdout",
     "output_type": "stream",
     "text": [
      "-24'h00e7df,\n",
      "-24'h00d320,\n",
      "-24'h00cd09,\n",
      "24'h00d557,\n",
      "24'h00d963,\n",
      "24'h00d6cb,\n",
      "24'h005a9a,\n",
      "24'h0051c8,\n",
      "24'h004df1,\n",
      "-24'h002021,\n",
      "-24'h0032eb,\n",
      "-24'h003528,\n",
      "24'h01f72c,\n",
      "24'h01ee4e,\n",
      "24'h01e669,\n",
      "24'h008f6f,\n",
      "24'h007954,\n",
      "24'h00706a,\n",
      "24'h00cde0,\n",
      "24'h00c2ad,\n",
      "24'h00bef4,\n",
      "-24'h00e713,\n",
      "-24'h00f0eb,\n",
      "-24'h00f7f9,\n",
      "-24'h016a57,\n",
      "-24'h0164ca,\n",
      "-24'h01601e,\n",
      "-24'h00c07a,\n",
      "-24'h00b38b,\n",
      "-24'h00ac34,\n"
     ]
    }
   ],
   "source": [
    "for i in fc_input_hex:\n",
    "    print(f\"{i},\")"
   ]
  },
  {
   "cell_type": "code",
   "execution_count": 132,
   "metadata": {},
   "outputs": [
    {
     "name": "stdout",
     "output_type": "stream",
     "text": [
      "16'h09e6,\n",
      "16'h06b3,\n",
      "16'h0cdb,\n",
      "-16'h112f,\n",
      "-16'h0f7e,\n",
      "-16'h0e91,\n",
      "16'h0a8c,\n",
      "16'h09a9,\n",
      "16'h0b1e,\n",
      "16'h0d97,\n",
      "16'h0c3a,\n",
      "16'h0c0a,\n",
      "-16'h0d7f,\n",
      "-16'h0adc,\n",
      "-16'h0731,\n",
      "16'h0857,\n",
      "16'h0835,\n",
      "16'h0c04,\n",
      "-16'h096c,\n",
      "-16'h0921,\n",
      "-16'h0952,\n",
      "-16'h0702,\n",
      "-16'h06ab,\n",
      "-16'h04c2,\n",
      "16'h1470,\n",
      "16'h14d3,\n",
      "16'h1386,\n",
      "-16'h1587,\n",
      "-16'h1653,\n",
      "-16'h1881,\n"
     ]
    }
   ],
   "source": [
    "for i in fc_weight_hex:\n",
    "    print(f\"{i},\")"
   ]
  },
  {
   "cell_type": "code",
   "execution_count": 124,
   "metadata": {},
   "outputs": [],
   "source": [
    "fc_bias_hex = tensor_to_hex_list(model.fc[0].bias, 8, 16)"
   ]
  },
  {
   "cell_type": "code",
   "execution_count": 133,
   "metadata": {},
   "outputs": [
    {
     "data": {
      "text/plain": [
       "Parameter containing:\n",
       "tensor([-42.5195,   5.7998,  27.6298, -23.9818,  24.4148,  29.1349,  -8.1405,\n",
       "         10.6412,   6.3522, -41.3713, -31.6411,  27.3438, -43.1333, -39.3329,\n",
       "         45.0211, -18.4086, -38.9969, -11.5696,  -7.3386,  18.2612,  16.9376,\n",
       "         21.9714, -22.5964, -36.8528, -23.7138,  34.5924, -44.0687],\n",
       "       device='cuda:0', requires_grad=True)"
      ]
     },
     "execution_count": 133,
     "metadata": {},
     "output_type": "execute_result"
    }
   ],
   "source": [
    "model.fc[0].bias"
   ]
  },
  {
   "cell_type": "code",
   "execution_count": 127,
   "metadata": {},
   "outputs": [
    {
     "data": {
      "text/plain": [
       "[\"-16'h2a85\",\n",
       " \"16'h05cc\",\n",
       " \"16'h1ba1\",\n",
       " \"-16'h17fb\",\n",
       " \"16'h186a\",\n",
       " \"16'h1d22\",\n",
       " \"-16'h0823\",\n",
       " \"16'h0aa4\",\n",
       " \"16'h065a\",\n",
       " \"-16'h295f\",\n",
       " \"-16'h1fa4\",\n",
       " \"16'h1b58\",\n",
       " \"-16'h2b22\",\n",
       " \"-16'h2755\",\n",
       " \"16'h2d05\",\n",
       " \"-16'h1268\",\n",
       " \"-16'h26ff\",\n",
       " \"-16'h0b91\",\n",
       " \"-16'h0756\",\n",
       " \"16'h1242\",\n",
       " \"16'h10f0\",\n",
       " \"16'h15f8\",\n",
       " \"-16'h1698\",\n",
       " \"-16'h24da\",\n",
       " \"-16'h17b6\",\n",
       " \"16'h2297\",\n",
       " \"-16'h2c11\"]"
      ]
     },
     "execution_count": 127,
     "metadata": {},
     "output_type": "execute_result"
    }
   ],
   "source": [
    "fc_bias_hex"
   ]
  },
  {
   "cell_type": "code",
   "execution_count": 18,
   "metadata": {},
   "outputs": [],
   "source": [
    "with open(\"../dataset/train/1/A.txt\", \"r\") as f:\n",
    "    lines = f.readlines()[:5]"
   ]
  },
  {
   "cell_type": "code",
   "execution_count": 19,
   "metadata": {},
   "outputs": [],
   "source": [
    "data = []\n",
    "\n",
    "for line in lines:\n",
    "    line = line.strip().split()\n",
    "    for n in line:\n",
    "        data.append(int(n))"
   ]
  },
  {
   "cell_type": "code",
   "execution_count": 20,
   "metadata": {},
   "outputs": [
    {
     "name": "stdout",
     "output_type": "stream",
     "text": [
      "1012,\n",
      "19,\n",
      "-3,\n",
      "303,\n",
      "398,\n",
      "403,\n",
      "392,\n",
      "347,\n",
      "1015,\n",
      "23,\n",
      "-3,\n",
      "301,\n",
      "397,\n",
      "402,\n",
      "395,\n",
      "354,\n",
      "1012,\n",
      "23,\n",
      "-11,\n",
      "300,\n",
      "394,\n",
      "399,\n",
      "391,\n",
      "350,\n",
      "1012,\n",
      "15,\n",
      "-7,\n",
      "301,\n",
      "396,\n",
      "401,\n",
      "393,\n",
      "351,\n",
      "1019,\n",
      "31,\n",
      "3,\n",
      "301,\n",
      "396,\n",
      "401,\n",
      "393,\n",
      "350,\n"
     ]
    }
   ],
   "source": [
    "for i in data:\n",
    "    print(f\"{i},\")"
   ]
  },
  {
   "cell_type": "code",
   "execution_count": null,
   "metadata": {},
   "outputs": [],
   "source": []
  }
 ],
 "metadata": {
  "kernelspec": {
   "display_name": "Python 3.10.6 ('general_slu')",
   "language": "python",
   "name": "python3"
  },
  "language_info": {
   "codemirror_mode": {
    "name": "ipython",
    "version": 3
   },
   "file_extension": ".py",
   "mimetype": "text/x-python",
   "name": "python",
   "nbconvert_exporter": "python",
   "pygments_lexer": "ipython3",
   "version": "3.10.6"
  },
  "orig_nbformat": 4,
  "vscode": {
   "interpreter": {
    "hash": "5661c73bf5f4ce6179e3148e3c825b6832fd4cb82045a10b114db5b9548c77c1"
   }
  }
 },
 "nbformat": 4,
 "nbformat_minor": 2
}
